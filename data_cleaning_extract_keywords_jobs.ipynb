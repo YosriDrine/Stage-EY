{
 "cells": [
  {
   "cell_type": "code",
   "execution_count": 46,
   "id": "bd765f5d",
   "metadata": {},
   "outputs": [],
   "source": [
    "import re\n",
    "import unicodedata\n",
    "from nltk.tokenize import word_tokenize\n",
    "from nltk.corpus import stopwords\n",
    "import numpy as np\n",
    "import pandas as pd\n",
    "import pyodbc\n",
    "import nltk\n",
    "from nltk.tag import pos_tag\n",
    "from googletrans import Translator\n",
    "import sklearn\n",
    "from sklearn.feature_extraction.text import TfidfVectorizer\n",
    "import sparknlp\n",
    "from rake_nltk import Rake"
   ]
  },
  {
   "cell_type": "code",
   "execution_count": 47,
   "id": "9fb2f745",
   "metadata": {},
   "outputs": [
    {
     "name": "stderr",
     "output_type": "stream",
     "text": [
      "[nltk_data] Downloading package punkt to\n",
      "[nltk_data]     C:\\Users\\dryne\\AppData\\Roaming\\nltk_data...\n",
      "[nltk_data]   Package punkt is already up-to-date!\n",
      "[nltk_data] Downloading package stopwords to\n",
      "[nltk_data]     C:\\Users\\dryne\\AppData\\Roaming\\nltk_data...\n",
      "[nltk_data]   Package stopwords is already up-to-date!\n",
      "[nltk_data] Downloading package words to\n",
      "[nltk_data]     C:\\Users\\dryne\\AppData\\Roaming\\nltk_data...\n",
      "[nltk_data]   Package words is already up-to-date!\n",
      "[nltk_data] Downloading package averaged_perceptron_tagger to\n",
      "[nltk_data]     C:\\Users\\dryne\\AppData\\Roaming\\nltk_data...\n",
      "[nltk_data]   Package averaged_perceptron_tagger is already up-to-\n",
      "[nltk_data]       date!\n"
     ]
    },
    {
     "data": {
      "text/plain": [
       "True"
      ]
     },
     "execution_count": 47,
     "metadata": {},
     "output_type": "execute_result"
    }
   ],
   "source": [
    "nltk.download('punkt')\n",
    "nltk.download('stopwords')\n",
    "nltk.download('words')\n",
    "nltk.download('averaged_perceptron_tagger')"
   ]
  },
  {
   "cell_type": "code",
   "execution_count": 48,
   "id": "38986332",
   "metadata": {},
   "outputs": [],
   "source": [
    "conn = pyodbc.connect('Driver={SQL Server};'\n",
    "                      'Server=LAPTOP-KLLTOUUR\\SQLEXPRESS;'\n",
    "                      'Database=Dashboard;'\n",
    "                      'Trusted_Connection=yes;')\n",
    "cursor = conn.cursor()\n",
    "cursor2=conn.cursor()"
   ]
  },
  {
   "cell_type": "code",
   "execution_count": 49,
   "id": "988e6dab",
   "metadata": {},
   "outputs": [],
   "source": [
    "query2 = \"SELECT * FROM EY_jobs\"\n",
    "\n",
    "cursor2.execute(query2)\n",
    "dataj = cursor2.fetchall()\n",
    "\n",
    "columns = [column[0] for column in cursor2.description]\n",
    "\n",
    "dfj = pd.DataFrame(columns=columns)\n",
    "\n",
    "for rowj in dataj:\n",
    "    dfj = pd.concat(\n",
    "        [dfj, pd.DataFrame([dict(zip(columns, rowj))])], ignore_index=True)"
   ]
  },
  {
   "cell_type": "code",
   "execution_count": 50,
   "id": "4193aa2d",
   "metadata": {},
   "outputs": [],
   "source": [
    "translator = Translator(service_urls=['translate.google.com'])\n",
    "\n",
    "\n",
    "# Function to translate text to English\n",
    "def translate_text(text):\n",
    "    translation = translator.translate(text, dest='en')\n",
    "    return translation.text\n",
    "\n",
    "# Apply translation to the DataFrame column\n",
    "dfj[\"Description\"] = dfj[\"Description\"].apply(translate_text)\n",
    "dfj[\"Title\"] = dfj[\"Title\"].apply(translate_text)\n"
   ]
  },
  {
   "cell_type": "code",
   "execution_count": 51,
   "id": "9fdef532",
   "metadata": {},
   "outputs": [],
   "source": [
    "jobs=[\"the\",\"opportunity\",\"ey\",\"job\",\"description\"]\n",
    "clean_keywords=[\"apply\",\"integrate\",\"using\",\"existing\",\"without\",\"starts\",\"french\",\"end\",\"products\"]\n",
    "sw=[\",\",\".\",\"'\",\"!\",\"?\",\"@\",\"#\",\"[]\",\"·\",\"people\",\"clients\",\"1\",\"2\",\"3\",\"4\",\"5\",\"6\",\"7\",\"8\",\"9\",\n",
    "           \"ey\",\"freedom\",\"work\",\"closely\",\"150\",\"review\",\"equivalent\",\"excellence\",\"employer\",\"english\",\"skills\",\"sized\",\"would\",\"us\",\"degree\",\"long\",\"oral\",\"regulatory\",\"team\",\"mastery\",\"year\",\n",
    "            \"consultants\",\"use\",\"world\",\"areas\",\"excellent\",\"offer\",\"needs\",\"demonstrate\",\"face\",\"perfect\",\"high\",\"graduate\",\"covers\"\n",
    "            ,\"etc\",\"tunisian\",\"(\",\")\",\"•\",\"countries\",\").\",\"speed\",\"especially\",\"multiple\",\"mentioned\",\"study\",\"policy\",\"pressure\",\"cca\",\"french\",\"employees\",\".).\",\"give\",\"good\",\"future\",\"every\",\"level\",\"two\",\"stay\",\"first\",\"enjoy\",\"life\",\"africa\",\"within\",\"written\",\"thus\",\"also\",\"years\",\"deliver\",\"including\",\"monthly\",\"hands\",\"today\",\"good\",\"top\",\"key\",\"esc\",\"’\",\"new\"]\n",
    "stop_words = set(stopwords.words('english'))\n",
    "stop_words.update(sw)"
   ]
  },
  {
   "cell_type": "code",
   "execution_count": 52,
   "id": "900755f1",
   "metadata": {},
   "outputs": [],
   "source": [
    "def contains_stopword(string, stopwords):\n",
    "    words=string.split()\n",
    "    for word in stopwords:\n",
    "        if word in words  :\n",
    "            return True\n",
    "    return False\n",
    "\n",
    "def clean_jobs(text):\n",
    "    words=text.split()\n",
    "    b=True\n",
    "    i=0\n",
    "    while(i < len(words) and b==True):\n",
    "        \n",
    "        if words[i].lower() in jobs : \n",
    "            words.remove(words[i])\n",
    "        else:\n",
    "            b=False\n",
    "            i+=1\n",
    "        \n",
    "    text = \" \".join(words)\n",
    "    text=text.capitalize()\n",
    "    return text \n",
    "\n",
    "\n",
    "def clean_keyword(text):\n",
    "    words=text.split()\n",
    "    b=True\n",
    "    i=0\n",
    "    while(i < len(words) and b==True):\n",
    "        \n",
    "        if words[i].lower() in clean_keywords : \n",
    "            words.remove(words[i])\n",
    "        else:\n",
    "            b=False\n",
    "            i+=1\n",
    "        \n",
    "    text = \" \".join(words)\n",
    "    text=text.capitalize()\n",
    "    text=\"#\"+text\n",
    "    text = text.replace(\" \", \"_\")\n",
    "    return text \n",
    "\n",
    "\n",
    "def extract_keywords(texte,i): \n",
    "    l=[]\n",
    "    keywords=[]\n",
    "    r=Rake()\n",
    "    r.extract_keywords_from_text(texte)\n",
    "    \n",
    "    for score,keyword in r.get_ranked_phrases_with_scores():\n",
    "       \n",
    "        if (((score>=3.2) and (score<=5.5)) or (score>=17.0 and score<=20)) and (contains_stopword(keyword,stop_words)==False) and (keyword not in keywords):\n",
    "            \n",
    "            l.append((i,clean_keyword(keyword),score))\n",
    "            keywords.append(keyword)\n",
    "        \n",
    "    return l\n",
    "\n"
   ]
  },
  {
   "cell_type": "code",
   "execution_count": 53,
   "id": "47577146",
   "metadata": {},
   "outputs": [],
   "source": [
    "for i in range(len(dfj[\"Description\"])):    \n",
    "    dfj[\"Description\"][i]=clean_jobs(dfj[\"Description\"][i])"
   ]
  },
  {
   "cell_type": "code",
   "execution_count": 56,
   "id": "d491dea3",
   "metadata": {},
   "outputs": [
    {
     "name": "stdout",
     "output_type": "stream",
     "text": [
      "Cleaned text : \n",
      "\n",
      "As part of a team led by an experienced manager, you will be required to carry out tasks such as : - supervision of accounting and payroll files - management of clients' monthly payroll - preparing tax returns - reporting to customers - preparation of financial statements and tax returns - participate in setting up internal work processes - customer relationship management (email exchanges, video-conferences and face-to-face meetings). your profile -degree: bachelor's degree in accounting (ihec, isce, etc.) or master's degree in cca related to accounting - minimum 3 years' experience in an accounting firm or company - management of tunisian payroll and social security declarations -management of monthly, quarterly and annual tax returns -preparation of taxable income table - preparation of periodic reports and tax returns - basic knowledge of ifrs -proficiency in sage accounting and payroll - proficiency in pack office, particularly excel - perfect command of french and english (test results highly appreciated) - customer service culture - good written and oral communication skills - ability to adapt - taste for teamwork\n",
      "\n",
      "Keywords using my algorithm : \n",
      "\n",
      "0              #Tax_returns\n",
      "1         #Periodic_reports\n",
      "2       #Particularly_excel\n",
      "3              #Pack_office\n",
      "4     #Financial_statements\n",
      "5      #Experienced_manager\n",
      "6          #Email_exchanges\n",
      "7          #Basic_knowledge\n",
      "8            #Payroll_files\n",
      "9          #Sage_accounting\n",
      "10         #Accounting_firm\n",
      "Name: Keyword, dtype: object\n"
     ]
    }
   ],
   "source": [
    "data=[]\n",
    "for i in range(len(dfj[\"Description\"])):\n",
    "    data.append(extract_keywords(dfj[\"Description\"][i],dfj[\"Id\"][i]))\n",
    "my_list=[item for sublist in data for item in sublist]\n",
    "data_frame=pd.DataFrame(my_list,columns=['Id','Keyword','Score'])\n",
    "print(\"Cleaned text : \\n\")\n",
    "print(dfj[\"Description\"][0])\n",
    "print(\"\\nKeywords using my algorithm : \\n\")\n",
    "keywords_id_15 = data_frame.loc[data_frame['Id'] == 15, 'Keyword']\n",
    "print(keywords_id_15)"
   ]
  },
  {
   "cell_type": "code",
   "execution_count": null,
   "id": "d8742ed1",
   "metadata": {},
   "outputs": [],
   "source": []
  }
 ],
 "metadata": {
  "kernelspec": {
   "display_name": "Python 3 (ipykernel)",
   "language": "python",
   "name": "python3"
  },
  "language_info": {
   "codemirror_mode": {
    "name": "ipython",
    "version": 3
   },
   "file_extension": ".py",
   "mimetype": "text/x-python",
   "name": "python",
   "nbconvert_exporter": "python",
   "pygments_lexer": "ipython3",
   "version": "3.10.9"
  }
 },
 "nbformat": 4,
 "nbformat_minor": 5
}
